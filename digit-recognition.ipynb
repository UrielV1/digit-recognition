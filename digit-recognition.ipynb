{
 "cells": [
  {
   "cell_type": "markdown",
   "metadata": {},
   "source": [
    "## <font color='blue'>Project objective</font>  \n",
    "- The aim of this project is to build ML model which can recognize digits with high accuracy."
   ]
  },
  {
   "cell_type": "markdown",
   "metadata": {},
   "source": [
    "<img align=\"left\" width=\"600\" src=\"https://miro.medium.com/max/372/1*AO2rIhzRYzFVQlFLx9DM9A.png\">"
   ]
  },
  {
   "cell_type": "markdown",
   "metadata": {},
   "source": [
    "## Project description\n",
    "- A dataset of 70,000 images of numbers ranging between 0-9 is given.\n",
    "- Each is image is composed of 784 features (28x28 pixels).  \n",
    "- ANN model was tested using MLP classifier with one hidden layer of 16 neurons.\n",
    "- RNN model was tested using 32 filters with kernel size (5,5). \n",
    "- Dimensionality reduction was executed using PCA method"
   ]
  },
  {
   "cell_type": "markdown",
   "metadata": {},
   "source": [
    "### Importing Libraries"
   ]
  },
  {
   "cell_type": "code",
   "execution_count": 181,
   "metadata": {},
   "outputs": [],
   "source": [
    "import tensorflow as tf\n",
    "import pandas as pd\n",
    "import matplotlib.pyplot as plt\n",
    "import numpy as np\n",
    "from keras.models import Sequential\n",
    "from keras.layers import Dense, Conv2D, Dropout, Flatten, MaxPooling2D"
   ]
  },
  {
   "cell_type": "markdown",
   "metadata": {},
   "source": [
    "### Combining train and test"
   ]
  },
  {
   "cell_type": "code",
   "execution_count": 182,
   "metadata": {},
   "outputs": [],
   "source": [
    "df1 = pd.read_csv(\"mnist_train.csv\")\n",
    "df2 = pd.read_csv(\"mnist_test.csv\")"
   ]
  },
  {
   "cell_type": "code",
   "execution_count": 183,
   "metadata": {},
   "outputs": [],
   "source": [
    "col_name = [str(x) for x in list(range(df1.shape[1]))]\n",
    "df1.columns = col_name\n",
    "df2.columns = col_name"
   ]
  },
  {
   "cell_type": "code",
   "execution_count": 184,
   "metadata": {},
   "outputs": [],
   "source": [
    "df = pd.concat([df1, df2], axis=0).reset_index()\n",
    "df.drop(['index'], axis=1, inplace=True)\n",
    "df.rename(columns = {'0':'digit'}, inplace=True)"
   ]
  },
  {
   "cell_type": "markdown",
   "metadata": {},
   "source": [
    "### Basic Exploration"
   ]
  },
  {
   "cell_type": "code",
   "execution_count": 185,
   "metadata": {},
   "outputs": [
    {
     "data": {
      "text/html": [
       "<div>\n",
       "<style scoped>\n",
       "    .dataframe tbody tr th:only-of-type {\n",
       "        vertical-align: middle;\n",
       "    }\n",
       "\n",
       "    .dataframe tbody tr th {\n",
       "        vertical-align: top;\n",
       "    }\n",
       "\n",
       "    .dataframe thead th {\n",
       "        text-align: right;\n",
       "    }\n",
       "</style>\n",
       "<table border=\"1\" class=\"dataframe\">\n",
       "  <thead>\n",
       "    <tr style=\"text-align: right;\">\n",
       "      <th></th>\n",
       "      <th>digit</th>\n",
       "      <th>1</th>\n",
       "      <th>2</th>\n",
       "      <th>3</th>\n",
       "      <th>4</th>\n",
       "      <th>5</th>\n",
       "      <th>6</th>\n",
       "      <th>7</th>\n",
       "      <th>8</th>\n",
       "      <th>9</th>\n",
       "      <th>...</th>\n",
       "      <th>775</th>\n",
       "      <th>776</th>\n",
       "      <th>777</th>\n",
       "      <th>778</th>\n",
       "      <th>779</th>\n",
       "      <th>780</th>\n",
       "      <th>781</th>\n",
       "      <th>782</th>\n",
       "      <th>783</th>\n",
       "      <th>784</th>\n",
       "    </tr>\n",
       "  </thead>\n",
       "  <tbody>\n",
       "    <tr>\n",
       "      <th>0</th>\n",
       "      <td>0</td>\n",
       "      <td>0</td>\n",
       "      <td>0</td>\n",
       "      <td>0</td>\n",
       "      <td>0</td>\n",
       "      <td>0</td>\n",
       "      <td>0</td>\n",
       "      <td>0</td>\n",
       "      <td>0</td>\n",
       "      <td>0</td>\n",
       "      <td>...</td>\n",
       "      <td>0</td>\n",
       "      <td>0</td>\n",
       "      <td>0</td>\n",
       "      <td>0</td>\n",
       "      <td>0</td>\n",
       "      <td>0</td>\n",
       "      <td>0</td>\n",
       "      <td>0</td>\n",
       "      <td>0</td>\n",
       "      <td>0</td>\n",
       "    </tr>\n",
       "    <tr>\n",
       "      <th>1</th>\n",
       "      <td>4</td>\n",
       "      <td>0</td>\n",
       "      <td>0</td>\n",
       "      <td>0</td>\n",
       "      <td>0</td>\n",
       "      <td>0</td>\n",
       "      <td>0</td>\n",
       "      <td>0</td>\n",
       "      <td>0</td>\n",
       "      <td>0</td>\n",
       "      <td>...</td>\n",
       "      <td>0</td>\n",
       "      <td>0</td>\n",
       "      <td>0</td>\n",
       "      <td>0</td>\n",
       "      <td>0</td>\n",
       "      <td>0</td>\n",
       "      <td>0</td>\n",
       "      <td>0</td>\n",
       "      <td>0</td>\n",
       "      <td>0</td>\n",
       "    </tr>\n",
       "  </tbody>\n",
       "</table>\n",
       "<p>2 rows × 785 columns</p>\n",
       "</div>"
      ],
      "text/plain": [
       "   digit  1  2  3  4  5  6  7  8  9  ...  775  776  777  778  779  780  781  \\\n",
       "0      0  0  0  0  0  0  0  0  0  0  ...    0    0    0    0    0    0    0   \n",
       "1      4  0  0  0  0  0  0  0  0  0  ...    0    0    0    0    0    0    0   \n",
       "\n",
       "   782  783  784  \n",
       "0    0    0    0  \n",
       "1    0    0    0  \n",
       "\n",
       "[2 rows x 785 columns]"
      ]
     },
     "execution_count": 185,
     "metadata": {},
     "output_type": "execute_result"
    }
   ],
   "source": [
    "df.head(2)"
   ]
  },
  {
   "cell_type": "code",
   "execution_count": 186,
   "metadata": {},
   "outputs": [
    {
     "data": {
      "text/plain": [
       "(69998, 785)"
      ]
     },
     "execution_count": 186,
     "metadata": {},
     "output_type": "execute_result"
    }
   ],
   "source": [
    "df.shape"
   ]
  },
  {
   "cell_type": "code",
   "execution_count": 187,
   "metadata": {},
   "outputs": [
    {
     "name": "stdout",
     "output_type": "stream",
     "text": [
      "<class 'pandas.core.frame.DataFrame'>\n",
      "RangeIndex: 69998 entries, 0 to 69997\n",
      "Columns: 785 entries, digit to 784\n",
      "dtypes: int64(785)\n",
      "memory usage: 419.2 MB\n"
     ]
    }
   ],
   "source": [
    "df.info()"
   ]
  },
  {
   "cell_type": "markdown",
   "metadata": {},
   "source": [
    "#### Are there any null values?"
   ]
  },
  {
   "cell_type": "code",
   "execution_count": 188,
   "metadata": {},
   "outputs": [
    {
     "data": {
      "text/plain": [
       "0"
      ]
     },
     "execution_count": 188,
     "metadata": {},
     "output_type": "execute_result"
    }
   ],
   "source": [
    "df.isna().sum().sum()"
   ]
  },
  {
   "cell_type": "markdown",
   "metadata": {},
   "source": [
    "#### Are the calasses balanced?"
   ]
  },
  {
   "cell_type": "code",
   "execution_count": 189,
   "metadata": {},
   "outputs": [
    {
     "data": {
      "text/plain": [
       "1    11.25\n",
       "7    10.42\n",
       "3    10.20\n",
       "2     9.99\n",
       "9     9.94\n",
       "0     9.86\n",
       "6     9.82\n",
       "8     9.75\n",
       "4     9.75\n",
       "5     9.02\n",
       "Name: digit, dtype: float64"
      ]
     },
     "execution_count": 189,
     "metadata": {},
     "output_type": "execute_result"
    }
   ],
   "source": [
    "# Let's look at the percent of each class\n",
    "round(100*df.digit.value_counts()/df.shape[0], 2)"
   ]
  },
  {
   "cell_type": "markdown",
   "metadata": {},
   "source": [
    "The classes percentage ranges between 9-11.25% (pretty balanced)"
   ]
  },
  {
   "cell_type": "markdown",
   "metadata": {},
   "source": [
    "## Building the Models"
   ]
  },
  {
   "cell_type": "markdown",
   "metadata": {},
   "source": [
    "### First model - MLP classifier"
   ]
  },
  {
   "cell_type": "code",
   "execution_count": 190,
   "metadata": {},
   "outputs": [
    {
     "data": {
      "image/jpeg": "[encoded data removed]",
      "text/plain": [
       "<IPython.core.display.Image object>"
      ]
     },
     "execution_count": 190,
     "metadata": {
      "image/jpeg": {
       "width": 600
      }
     },
     "output_type": "execute_result"
    }
   ],
   "source": [
    "from IPython.display import Image\n",
    "Image(filename='NN.jpeg',width=600)"
   ]
  },
  {
   "cell_type": "code",
   "execution_count": 191,
   "metadata": {},
   "outputs": [],
   "source": [
    "import sklearn.neural_network as sknet\n",
    "import sklearn.model_selection as skmodel"
   ]
  },
  {
   "cell_type": "code",
   "execution_count": 192,
   "metadata": {},
   "outputs": [],
   "source": [
    "X_train, X_test, y_train, y_test = skmodel.train_test_split(df.drop('digit',axis=1),\n",
    "                                                            df['digit'], test_size=0.2, random_state=101)"
   ]
  },
  {
   "cell_type": "code",
   "execution_count": 193,
   "metadata": {},
   "outputs": [],
   "source": [
    "model = sknet.MLPClassifier(hidden_layer_sizes=([32]), max_iter=100, verbose=True)"
   ]
  },
  {
   "cell_type": "code",
   "execution_count": 196,
   "metadata": {},
   "outputs": [
    {
     "name": "stdout",
     "output_type": "stream",
     "text": [
      "Iteration 1, loss = 3.76551986\n",
      "Iteration 2, loss = 1.28200953\n",
      "Iteration 3, loss = 0.97912561\n",
      "Iteration 4, loss = 0.78919362\n",
      "Iteration 5, loss = 0.63405844\n",
      "Iteration 6, loss = 0.52926728\n",
      "Iteration 7, loss = 0.45547708\n",
      "Iteration 8, loss = 0.40575613\n",
      "Iteration 9, loss = 0.36814286\n",
      "Iteration 10, loss = 0.32706963\n",
      "Iteration 11, loss = 0.30240833\n",
      "Iteration 12, loss = 0.27385308\n",
      "Iteration 13, loss = 0.25337885\n",
      "Iteration 14, loss = 0.23835567\n",
      "Iteration 15, loss = 0.22803011\n",
      "Iteration 16, loss = 0.22158820\n",
      "Iteration 17, loss = 0.21036172\n",
      "Iteration 18, loss = 0.20124939\n",
      "Iteration 19, loss = 0.20025878\n",
      "Iteration 20, loss = 0.18851128\n",
      "Iteration 21, loss = 0.19221263\n",
      "Iteration 22, loss = 0.18384838\n",
      "Iteration 23, loss = 0.17692440\n",
      "Iteration 24, loss = 0.17709575\n",
      "Iteration 25, loss = 0.17143781\n",
      "Iteration 26, loss = 0.16826237\n",
      "Iteration 27, loss = 0.16270624\n",
      "Iteration 28, loss = 0.15874772\n",
      "Iteration 29, loss = 0.15471574\n",
      "Iteration 30, loss = 0.14607326\n",
      "Iteration 31, loss = 0.14808531\n",
      "Iteration 32, loss = 0.14197560\n",
      "Iteration 33, loss = 0.14208865\n",
      "Iteration 34, loss = 0.14430442\n",
      "Iteration 35, loss = 0.13575563\n",
      "Iteration 36, loss = 0.13314117\n",
      "Iteration 37, loss = 0.13038558\n",
      "Iteration 38, loss = 0.12997904\n",
      "Iteration 39, loss = 0.12826751\n",
      "Iteration 40, loss = 0.12450539\n",
      "Iteration 41, loss = 0.12377498\n",
      "Iteration 42, loss = 0.12376634\n",
      "Iteration 43, loss = 0.12047143\n",
      "Iteration 44, loss = 0.12252760\n",
      "Iteration 45, loss = 0.11770907\n",
      "Iteration 46, loss = 0.11512273\n",
      "Iteration 47, loss = 0.11442837\n",
      "Iteration 48, loss = 0.11452171\n",
      "Iteration 49, loss = 0.11088610\n",
      "Iteration 50, loss = 0.10840371\n",
      "Iteration 51, loss = 0.10748411\n",
      "Iteration 52, loss = 0.10996830\n",
      "Iteration 53, loss = 0.11052380\n",
      "Iteration 54, loss = 0.10858473\n",
      "Iteration 55, loss = 0.10560852\n",
      "Iteration 56, loss = 0.10506091\n",
      "Iteration 57, loss = 0.10212810\n",
      "Iteration 58, loss = 0.10616665\n",
      "Iteration 59, loss = 0.10301863\n",
      "Iteration 60, loss = 0.10412703\n",
      "Iteration 61, loss = 0.10037887\n",
      "Iteration 62, loss = 0.10125685\n",
      "Iteration 63, loss = 0.09920931\n",
      "Iteration 64, loss = 0.09963964\n",
      "Iteration 65, loss = 0.10014909\n",
      "Iteration 66, loss = 0.09516067\n",
      "Iteration 67, loss = 0.09532051\n",
      "Iteration 68, loss = 0.09584946\n",
      "Iteration 69, loss = 0.09412161\n",
      "Iteration 70, loss = 0.09819629\n",
      "Iteration 71, loss = 0.09731364\n",
      "Iteration 72, loss = 0.09451698\n",
      "Iteration 73, loss = 0.09090774\n",
      "Iteration 74, loss = 0.08967310\n",
      "Iteration 75, loss = 0.09300730\n",
      "Iteration 76, loss = 0.09371190\n",
      "Iteration 77, loss = 0.09415322\n",
      "Iteration 78, loss = 0.09387124\n",
      "Iteration 79, loss = 0.08998247\n",
      "Iteration 80, loss = 0.08964459\n",
      "Iteration 81, loss = 0.09104112\n",
      "Iteration 82, loss = 0.09188003\n",
      "Iteration 83, loss = 0.08605175\n",
      "Iteration 84, loss = 0.08993706\n",
      "Iteration 85, loss = 0.08844326\n",
      "Iteration 86, loss = 0.08663421\n",
      "Iteration 87, loss = 0.08790847\n",
      "Iteration 88, loss = 0.08624751\n",
      "Iteration 89, loss = 0.08511480\n",
      "Iteration 90, loss = 0.08748372\n",
      "Iteration 91, loss = 0.08481402\n",
      "Iteration 92, loss = 0.08189189\n",
      "Iteration 93, loss = 0.08385469\n",
      "Iteration 94, loss = 0.08440821\n",
      "Iteration 95, loss = 0.08257377\n",
      "Iteration 96, loss = 0.08381092\n",
      "Iteration 97, loss = 0.08319424\n",
      "Iteration 98, loss = 0.08446418\n",
      "Iteration 99, loss = 0.08257827\n",
      "Iteration 100, loss = 0.08780541\n"
     ]
    },
    {
     "name": "stderr",
     "output_type": "stream",
     "text": [
      "C:\\Users\\User\\anaconda3\\lib\\site-packages\\sklearn\\neural_network\\_multilayer_perceptron.py:582: ConvergenceWarning: Stochastic Optimizer: Maximum iterations (100) reached and the optimization hasn't converged yet.\n",
      "  warnings.warn(\n"
     ]
    },
    {
     "data": {
      "text/plain": [
       "MLPClassifier(hidden_layer_sizes=[32], max_iter=100, verbose=True)"
      ]
     },
     "execution_count": 196,
     "metadata": {},
     "output_type": "execute_result"
    }
   ],
   "source": [
    "model.fit(X_train,y_train)"
   ]
  },
  {
   "cell_type": "code",
   "execution_count": 197,
   "metadata": {},
   "outputs": [],
   "source": [
    "pred = model.predict(X_test)"
   ]
  },
  {
   "cell_type": "markdown",
   "metadata": {},
   "source": [
    "Accuracy for the 10 first samples"
   ]
  },
  {
   "cell_type": "code",
   "execution_count": 198,
   "metadata": {},
   "outputs": [
    {
     "data": {
      "text/plain": [
       "array([1, 6, 4, 2, 7, 6, 0, 1, 6, 7], dtype=int64)"
      ]
     },
     "execution_count": 198,
     "metadata": {},
     "output_type": "execute_result"
    }
   ],
   "source": [
    "pred[:10]"
   ]
  },
  {
   "cell_type": "code",
   "execution_count": 199,
   "metadata": {},
   "outputs": [
    {
     "data": {
      "text/plain": [
       "array([1, 6, 4, 2, 7, 6, 0, 1, 6, 7], dtype=int64)"
      ]
     },
     "execution_count": 199,
     "metadata": {},
     "output_type": "execute_result"
    }
   ],
   "source": [
    "y_test[:10].values"
   ]
  },
  {
   "cell_type": "code",
   "execution_count": 200,
   "metadata": {},
   "outputs": [
    {
     "data": {
      "text/plain": [
       "1.0"
      ]
     },
     "execution_count": 200,
     "metadata": {},
     "output_type": "execute_result"
    }
   ],
   "source": [
    "np.mean((pred[:10] == y_test[:10].values))"
   ]
  },
  {
   "cell_type": "markdown",
   "metadata": {},
   "source": [
    "### Accuracy for the entire dataset"
   ]
  },
  {
   "cell_type": "code",
   "execution_count": 201,
   "metadata": {},
   "outputs": [],
   "source": [
    "def model_acc(model, X_train, X_test, y_train, y_test):\n",
    "    \n",
    "    pred_train = model.predict(X_train)\n",
    "    pred_test = model.predict(X_test)\n",
    "    \n",
    "    acc_train = round(100*(1 - np.mean(pred_train != y_train)), 2)\n",
    "    acc_test = round(100*(1 - np.mean(pred_test != y_test)), 2)\n",
    "    \n",
    "    print('Train accuracy: ', acc_train)\n",
    "    print('Test accuracy:  ', acc_test)"
   ]
  },
  {
   "cell_type": "code",
   "execution_count": 202,
   "metadata": {},
   "outputs": [
    {
     "name": "stdout",
     "output_type": "stream",
     "text": [
      "Train accuracy:  97.47\n",
      "Test accuracy:   94.09\n"
     ]
    }
   ],
   "source": [
    "model_acc(model, X_train, X_test, y_train, y_test)"
   ]
  },
  {
   "cell_type": "markdown",
   "metadata": {},
   "source": [
    "### Choose a random sample from the test set\n",
    "- What is the true label?\n",
    "- What is the predicted label?\n",
    "- Calculate the three highest probabilities.\n",
    "- Plot an image of the number."
   ]
  },
  {
   "cell_type": "code",
   "execution_count": 207,
   "metadata": {},
   "outputs": [
    {
     "name": "stdout",
     "output_type": "stream",
     "text": [
      "Random index: 12000\n",
      "The real number:  9\n",
      "Predicted number: 9\n",
      "The probabilities are:\n",
      "9 87.25\n",
      "4 8.58\n",
      "7 1.7\n"
     ]
    },
    {
     "data": {
      "image/png": "[encoded data removed]",
      "text/plain": [
       "<Figure size 432x288 with 1 Axes>"
      ]
     },
     "metadata": {
      "needs_background": "light"
     },
     "output_type": "display_data"
    }
   ],
   "source": [
    "rec = np.random.randint(0, len(X_test))\n",
    "print(\"Random index:\", rec)\n",
    "print(\"The real number: \", y_test[rec:rec+1].values[0])\n",
    "print(\"Predicted number:\",pred[rec])\n",
    "pic_true = X_test[rec:rec+1].values.reshape(784)[0:].reshape(28,28)\n",
    "plt.imshow(pic_true, cmap='gray')\n",
    "\n",
    "s1 = model.predict_proba(X_test)[rec:rec+1]\n",
    "s1_org = s1.copy()\n",
    "print(\"The probabilities are:\")\n",
    "N_draw = 3\n",
    "for i in range(N_draw):\n",
    "    curr = s1.argmax()\n",
    "    prob = round(100*s1_org[0, curr]/s1_org.sum(), 2)\n",
    "    s_print = f'{curr} {prob}'\n",
    "    print(s_print)\n",
    "    s1[0, s1.argmax()] = -1"
   ]
  },
  {
   "cell_type": "markdown",
   "metadata": {},
   "source": [
    "### Averaging and Rotating a specific class\n",
    "- Plot an average image for a gives class.\n",
    "- Rotate the number by a given angle (the default val should be zero)."
   ]
  },
  {
   "cell_type": "code",
   "execution_count": 208,
   "metadata": {},
   "outputs": [],
   "source": [
    "from scipy.ndimage.interpolation import rotate"
   ]
  },
  {
   "cell_type": "code",
   "execution_count": 209,
   "metadata": {},
   "outputs": [],
   "source": [
    "def ave_num_pic(num, angle=0):\n",
    "    df_num = df[df['digit'] == num]\n",
    "    ave_pic = np.mean(df[df['digit'] == num], axis=0)\n",
    "    ave_pic_fmt = ave_pic.values.reshape(785)[1:].reshape(28,28)\n",
    "    ave_rot = rotate(ave_pic_fmt, angle=angle)\n",
    "    plt.imshow(ave_rot, cmap='gray');\n",
    "    return num"
   ]
  },
  {
   "cell_type": "code",
   "execution_count": 210,
   "metadata": {},
   "outputs": [
    {
     "data": {
      "text/plain": [
       "8"
      ]
     },
     "execution_count": 210,
     "metadata": {},
     "output_type": "execute_result"
    },
    {
     "data": {
      "image/png": "[encoded data removed]",
      "text/plain": [
       "<Figure size 432x288 with 1 Axes>"
      ]
     },
     "metadata": {
      "needs_background": "light"
     },
     "output_type": "display_data"
    }
   ],
   "source": [
    "ave_num_pic(8, 30)"
   ]
  },
  {
   "cell_type": "markdown",
   "metadata": {},
   "source": [
    "### PCA - dim reduction"
   ]
  },
  {
   "cell_type": "code",
   "execution_count": 21,
   "metadata": {},
   "outputs": [],
   "source": [
    "from sklearn.decomposition import PCA"
   ]
  },
  {
   "cell_type": "code",
   "execution_count": 22,
   "metadata": {},
   "outputs": [],
   "source": [
    "pca = PCA(n_components=X_train.shape[1])\n",
    "pca.fit(X_train)\n",
    "X_train_pca = pca.transform(X_train)\n",
    "X_test_pca = pca.transform(X_test)"
   ]
  },
  {
   "cell_type": "code",
   "execution_count": 23,
   "metadata": {},
   "outputs": [
    {
     "data": {
      "image/png": "[encoded data removed]",
      "text/plain": [
       "<Figure size 432x288 with 1 Axes>"
      ]
     },
     "metadata": {
      "needs_background": "light"
     },
     "output_type": "display_data"
    }
   ],
   "source": [
    "plt.plot(range(1,785), np.cumsum(pca.explained_variance_ratio_), \"m\")\n",
    "plt.xlabel('Number of features')\n",
    "plt.ylabel('Explained variance')\n",
    "plt.title('Explained variance vs Number of features')\n",
    "plt.show()"
   ]
  },
  {
   "cell_type": "code",
   "execution_count": 76,
   "metadata": {},
   "outputs": [],
   "source": [
    "#model.fit(X_train_pca, y_train)"
   ]
  },
  {
   "cell_type": "markdown",
   "metadata": {},
   "source": [
    "Accuracy after transformation"
   ]
  },
  {
   "cell_type": "code",
   "execution_count": 55,
   "metadata": {},
   "outputs": [
    {
     "name": "stdout",
     "output_type": "stream",
     "text": [
      "Train accuracy:  99.55\n",
      "Test accuracy:   94.55\n"
     ]
    }
   ],
   "source": [
    "model_acc(model, X_train_pca, X_test_pca, y_train, y_test)"
   ]
  },
  {
   "cell_type": "markdown",
   "metadata": {},
   "source": [
    "Function which calculates how many features do we need to reach a certain values of exp_var"
   ]
  },
  {
   "cell_type": "code",
   "execution_count": 48,
   "metadata": {},
   "outputs": [],
   "source": [
    "def exp_var(percent):\n",
    "    n = pca.explained_variance_ratio_.shape[0]\n",
    "    for i in range(n):\n",
    "        explained = np.cumsum(pca.explained_variance_ratio_)[i]\n",
    "        if explained > percent/100:\n",
    "            return(i)"
   ]
  },
  {
   "cell_type": "markdown",
   "metadata": {},
   "source": [
    "Let's check accuracy values for different values of exp_var"
   ]
  },
  {
   "cell_type": "code",
   "execution_count": 58,
   "metadata": {},
   "outputs": [
    {
     "data": {
      "text/plain": [
       "25"
      ]
     },
     "execution_count": 58,
     "metadata": {},
     "output_type": "execute_result"
    }
   ],
   "source": [
    "# exp_var = 70%\n",
    "n_feat = exp_var(70)\n",
    "n_feat"
   ]
  },
  {
   "cell_type": "code",
   "execution_count": 63,
   "metadata": {},
   "outputs": [],
   "source": [
    "X_tr_25 = X_train_pca[:, :n_feat]\n",
    "X_ts_25 = X_test_pca[:, :n_feat]"
   ]
  },
  {
   "cell_type": "code",
   "execution_count": 61,
   "metadata": {},
   "outputs": [],
   "source": [
    "#model.fit(X_tr_25, y_train)"
   ]
  },
  {
   "cell_type": "code",
   "execution_count": 62,
   "metadata": {},
   "outputs": [
    {
     "name": "stdout",
     "output_type": "stream",
     "text": [
      "Train accuracy:  96.68\n",
      "Test accuracy:   95.9\n"
     ]
    }
   ],
   "source": [
    "model_acc(model, X_tr_25, X_ts_25, y_train, y_test)"
   ]
  },
  {
   "cell_type": "code",
   "execution_count": 64,
   "metadata": {},
   "outputs": [
    {
     "data": {
      "text/plain": [
       "86"
      ]
     },
     "execution_count": 64,
     "metadata": {},
     "output_type": "execute_result"
    }
   ],
   "source": [
    "# exp_var = 90%\n",
    "n_feat = exp_var(90)\n",
    "n_feat"
   ]
  },
  {
   "cell_type": "code",
   "execution_count": 65,
   "metadata": {},
   "outputs": [],
   "source": [
    "X_tr_86 = X_train_pca[:, :n_feat]\n",
    "X_ts_86 = X_test_pca[:, :n_feat]"
   ]
  },
  {
   "cell_type": "code",
   "execution_count": 68,
   "metadata": {},
   "outputs": [],
   "source": [
    "#model.fit(X_tr_86, y_train)"
   ]
  },
  {
   "cell_type": "code",
   "execution_count": 69,
   "metadata": {},
   "outputs": [
    {
     "name": "stdout",
     "output_type": "stream",
     "text": [
      "Train accuracy:  98.15\n",
      "Test accuracy:   95.86\n"
     ]
    }
   ],
   "source": [
    "model_acc(model, X_tr_86, X_ts_86, y_train, y_test)"
   ]
  },
  {
   "cell_type": "code",
   "execution_count": 70,
   "metadata": {},
   "outputs": [
    {
     "data": {
      "text/plain": [
       "42"
      ]
     },
     "execution_count": 70,
     "metadata": {},
     "output_type": "execute_result"
    }
   ],
   "source": [
    "# exp_var = 80%\n",
    "n_feat = exp_var(80)\n",
    "n_feat"
   ]
  },
  {
   "cell_type": "code",
   "execution_count": 71,
   "metadata": {},
   "outputs": [],
   "source": [
    "X_tr_42 = X_train_pca[:, :n_feat]\n",
    "X_ts_42 = X_test_pca[:, :n_feat]"
   ]
  },
  {
   "cell_type": "code",
   "execution_count": 73,
   "metadata": {},
   "outputs": [],
   "source": [
    "#model.fit(X_tr_42, y_train)"
   ]
  },
  {
   "cell_type": "code",
   "execution_count": 74,
   "metadata": {},
   "outputs": [
    {
     "name": "stdout",
     "output_type": "stream",
     "text": [
      "Train accuracy:  97.36\n",
      "Test accuracy:   96.42\n"
     ]
    }
   ],
   "source": [
    "model_acc(model, X_tr_42, X_ts_42, y_train, y_test)"
   ]
  },
  {
   "cell_type": "code",
   "execution_count": null,
   "metadata": {},
   "outputs": [],
   "source": []
  },
  {
   "cell_type": "code",
   "execution_count": 75,
   "metadata": {},
   "outputs": [],
   "source": [
    "import sklearn.metrics as skmet"
   ]
  },
  {
   "cell_type": "code",
   "execution_count": 79,
   "metadata": {},
   "outputs": [],
   "source": [
    "pred = model.predict(X_ts_42)"
   ]
  },
  {
   "cell_type": "code",
   "execution_count": 80,
   "metadata": {},
   "outputs": [
    {
     "name": "stdout",
     "output_type": "stream",
     "text": [
      "[[1340    1    4    2    4   13   10    2    4    8]\n",
      " [   0 1526    7    2    3    2    1    2    2    1]\n",
      " [   3    5 1359    3   10    0    2    9    7    4]\n",
      " [   2    3   16 1294    2   27    2    8   17    4]\n",
      " [   0    1    0    0 1378    0    4    7    2   14]\n",
      " [   3    3    3    7    2 1276   15    3    4    4]\n",
      " [   0    3    0    0   13   10 1360    1    7    0]\n",
      " [   1    4   11    7    7    2    2 1377    3   13]\n",
      " [   1    1   14   15    4   16    4    2 1253    5]\n",
      " [   5    2    0    5   31   21    0   12   15 1336]]\n"
     ]
    }
   ],
   "source": [
    "print(skmet.confusion_matrix(y_test, pred))"
   ]
  },
  {
   "cell_type": "code",
   "execution_count": 81,
   "metadata": {},
   "outputs": [
    {
     "name": "stdout",
     "output_type": "stream",
     "text": [
      "              precision    recall  f1-score   support\n",
      "\n",
      "           0       0.99      0.97      0.98      1388\n",
      "           1       0.99      0.99      0.99      1546\n",
      "           2       0.96      0.97      0.97      1402\n",
      "           3       0.97      0.94      0.95      1375\n",
      "           4       0.95      0.98      0.96      1406\n",
      "           5       0.93      0.97      0.95      1320\n",
      "           6       0.97      0.98      0.97      1394\n",
      "           7       0.97      0.96      0.97      1427\n",
      "           8       0.95      0.95      0.95      1315\n",
      "           9       0.96      0.94      0.95      1427\n",
      "\n",
      "    accuracy                           0.96     14000\n",
      "   macro avg       0.96      0.96      0.96     14000\n",
      "weighted avg       0.96      0.96      0.96     14000\n",
      "\n"
     ]
    }
   ],
   "source": [
    "print(skmet.classification_report(y_test,pred))"
   ]
  },
  {
   "cell_type": "markdown",
   "metadata": {},
   "source": [
    "How does the different layers and coefficients looks like?"
   ]
  },
  {
   "cell_type": "code",
   "execution_count": 82,
   "metadata": {},
   "outputs": [
    {
     "data": {
      "text/plain": [
       "(42, 32)"
      ]
     },
     "execution_count": 82,
     "metadata": {},
     "output_type": "execute_result"
    }
   ],
   "source": [
    "model.coefs_[0].shape"
   ]
  },
  {
   "cell_type": "code",
   "execution_count": 83,
   "metadata": {},
   "outputs": [
    {
     "data": {
      "text/plain": [
       "(32, 10)"
      ]
     },
     "execution_count": 83,
     "metadata": {},
     "output_type": "execute_result"
    }
   ],
   "source": [
    "model.coefs_[1].shape"
   ]
  },
  {
   "cell_type": "code",
   "execution_count": 84,
   "metadata": {},
   "outputs": [
    {
     "data": {
      "text/plain": [
       "(32,)"
      ]
     },
     "execution_count": 84,
     "metadata": {},
     "output_type": "execute_result"
    }
   ],
   "source": [
    "model.intercepts_[0].shape"
   ]
  },
  {
   "cell_type": "markdown",
   "metadata": {},
   "source": [
    "Wrong predictions distribution"
   ]
  },
  {
   "cell_type": "code",
   "execution_count": 95,
   "metadata": {},
   "outputs": [],
   "source": [
    "n = pred.shape[0]\n",
    "flase_list = []\n",
    "for i in range(1, n):\n",
    "    if list(pred != y_test)[i]:\n",
    "        flase_list.append(i)"
   ]
  },
  {
   "cell_type": "code",
   "execution_count": 97,
   "metadata": {},
   "outputs": [],
   "source": [
    "mis_pred = y_test.take(flase_list).to_frame()"
   ]
  },
  {
   "cell_type": "code",
   "execution_count": 98,
   "metadata": {},
   "outputs": [
    {
     "data": {
      "text/plain": [
       "digit\n",
       "9        91\n",
       "3        81\n",
       "8        62\n",
       "7        50\n",
       "0        48\n",
       "5        44\n",
       "2        43\n",
       "6        34\n",
       "4        28\n",
       "1        20\n",
       "dtype: int64"
      ]
     },
     "execution_count": 98,
     "metadata": {},
     "output_type": "execute_result"
    }
   ],
   "source": [
    "mis_pred.value_counts()"
   ]
  },
  {
   "cell_type": "markdown",
   "metadata": {},
   "source": [
    "Mispredicted numbers ratio"
   ]
  },
  {
   "cell_type": "code",
   "execution_count": 100,
   "metadata": {},
   "outputs": [
    {
     "data": {
      "text/plain": [
       "digit\n",
       "9        18.16\n",
       "3        16.17\n",
       "8        12.38\n",
       "7         9.98\n",
       "0         9.58\n",
       "5         8.78\n",
       "2         8.58\n",
       "6         6.79\n",
       "4         5.59\n",
       "1         3.99\n",
       "dtype: float64"
      ]
     },
     "execution_count": 100,
     "metadata": {},
     "output_type": "execute_result"
    }
   ],
   "source": [
    "round(100*mis_pred.value_counts()/len(mis_pred), 2)"
   ]
  },
  {
   "cell_type": "markdown",
   "metadata": {},
   "source": [
    "Mispredicted numbers out of the entire test set"
   ]
  },
  {
   "cell_type": "code",
   "execution_count": 103,
   "metadata": {},
   "outputs": [],
   "source": [
    "N = X_test.shape[0]"
   ]
  },
  {
   "cell_type": "code",
   "execution_count": 104,
   "metadata": {},
   "outputs": [
    {
     "data": {
      "text/plain": [
       "digit\n",
       "9        0.65\n",
       "3        0.58\n",
       "8        0.44\n",
       "7        0.36\n",
       "0        0.34\n",
       "5        0.31\n",
       "2        0.31\n",
       "6        0.24\n",
       "4        0.20\n",
       "1        0.14\n",
       "dtype: float64"
      ]
     },
     "execution_count": 104,
     "metadata": {},
     "output_type": "execute_result"
    }
   ],
   "source": [
    "round(100*mis_pred.value_counts()/N, 2)"
   ]
  },
  {
   "cell_type": "code",
   "execution_count": null,
   "metadata": {},
   "outputs": [],
   "source": []
  },
  {
   "cell_type": "markdown",
   "metadata": {},
   "source": [
    "### Second model - CNN"
   ]
  },
  {
   "cell_type": "code",
   "execution_count": 108,
   "metadata": {},
   "outputs": [
    {
     "data": {
      "image/png": "[encoded data removed]",
      "text/plain": [
       "<IPython.core.display.Image object>"
      ]
     },
     "execution_count": 108,
     "metadata": {
      "image/png": {
       "width": 600
      }
     },
     "output_type": "execute_result"
    }
   ],
   "source": [
    "from IPython.display import Image\n",
    "Image(filename='CNN.png',width=600)"
   ]
  },
  {
   "cell_type": "code",
   "execution_count": 109,
   "metadata": {},
   "outputs": [
    {
     "data": {
      "text/html": [
       "<div>\n",
       "<style scoped>\n",
       "    .dataframe tbody tr th:only-of-type {\n",
       "        vertical-align: middle;\n",
       "    }\n",
       "\n",
       "    .dataframe tbody tr th {\n",
       "        vertical-align: top;\n",
       "    }\n",
       "\n",
       "    .dataframe thead th {\n",
       "        text-align: right;\n",
       "    }\n",
       "</style>\n",
       "<table border=\"1\" class=\"dataframe\">\n",
       "  <thead>\n",
       "    <tr style=\"text-align: right;\">\n",
       "      <th></th>\n",
       "      <th>digit</th>\n",
       "      <th>1</th>\n",
       "      <th>2</th>\n",
       "      <th>3</th>\n",
       "      <th>4</th>\n",
       "      <th>5</th>\n",
       "      <th>6</th>\n",
       "      <th>7</th>\n",
       "      <th>8</th>\n",
       "      <th>9</th>\n",
       "      <th>...</th>\n",
       "      <th>775</th>\n",
       "      <th>776</th>\n",
       "      <th>777</th>\n",
       "      <th>778</th>\n",
       "      <th>779</th>\n",
       "      <th>780</th>\n",
       "      <th>781</th>\n",
       "      <th>782</th>\n",
       "      <th>783</th>\n",
       "      <th>784</th>\n",
       "    </tr>\n",
       "  </thead>\n",
       "  <tbody>\n",
       "    <tr>\n",
       "      <th>0</th>\n",
       "      <td>0</td>\n",
       "      <td>0</td>\n",
       "      <td>0</td>\n",
       "      <td>0</td>\n",
       "      <td>0</td>\n",
       "      <td>0</td>\n",
       "      <td>0</td>\n",
       "      <td>0</td>\n",
       "      <td>0</td>\n",
       "      <td>0</td>\n",
       "      <td>...</td>\n",
       "      <td>0</td>\n",
       "      <td>0</td>\n",
       "      <td>0</td>\n",
       "      <td>0</td>\n",
       "      <td>0</td>\n",
       "      <td>0</td>\n",
       "      <td>0</td>\n",
       "      <td>0</td>\n",
       "      <td>0</td>\n",
       "      <td>0</td>\n",
       "    </tr>\n",
       "    <tr>\n",
       "      <th>1</th>\n",
       "      <td>4</td>\n",
       "      <td>0</td>\n",
       "      <td>0</td>\n",
       "      <td>0</td>\n",
       "      <td>0</td>\n",
       "      <td>0</td>\n",
       "      <td>0</td>\n",
       "      <td>0</td>\n",
       "      <td>0</td>\n",
       "      <td>0</td>\n",
       "      <td>...</td>\n",
       "      <td>0</td>\n",
       "      <td>0</td>\n",
       "      <td>0</td>\n",
       "      <td>0</td>\n",
       "      <td>0</td>\n",
       "      <td>0</td>\n",
       "      <td>0</td>\n",
       "      <td>0</td>\n",
       "      <td>0</td>\n",
       "      <td>0</td>\n",
       "    </tr>\n",
       "  </tbody>\n",
       "</table>\n",
       "<p>2 rows × 785 columns</p>\n",
       "</div>"
      ],
      "text/plain": [
       "   digit  1  2  3  4  5  6  7  8  9  ...  775  776  777  778  779  780  781  \\\n",
       "0      0  0  0  0  0  0  0  0  0  0  ...    0    0    0    0    0    0    0   \n",
       "1      4  0  0  0  0  0  0  0  0  0  ...    0    0    0    0    0    0    0   \n",
       "\n",
       "   782  783  784  \n",
       "0    0    0    0  \n",
       "1    0    0    0  \n",
       "\n",
       "[2 rows x 785 columns]"
      ]
     },
     "execution_count": 109,
     "metadata": {},
     "output_type": "execute_result"
    }
   ],
   "source": [
    "df.head(2)"
   ]
  },
  {
   "cell_type": "code",
   "execution_count": 120,
   "metadata": {},
   "outputs": [],
   "source": [
    "x_train, x_test, y_train, y_test = skmodel.train_test_split(df.drop('digit',axis=1),\n",
    "                                                            df['digit'], test_size=0.2, random_state=101)"
   ]
  },
  {
   "cell_type": "code",
   "execution_count": 121,
   "metadata": {},
   "outputs": [],
   "source": [
    "x_train = x_train.values\n",
    "x_test = x_test.values\n",
    "y_train = y_train.values\n",
    "y_test = y_test.values"
   ]
  },
  {
   "cell_type": "code",
   "execution_count": 123,
   "metadata": {},
   "outputs": [
    {
     "name": "stdout",
     "output_type": "stream",
     "text": [
      "x_train shape: (55998, 28, 28, 1)\n",
      "Number of images in x_train 55998\n",
      "Number of images in x_test 14000\n"
     ]
    }
   ],
   "source": [
    "x_train = x_train.reshape(x_train.shape[0], 28, 28, 1)\n",
    "x_test = x_test.reshape(x_test.shape[0], 28, 28, 1)\n",
    "\n",
    "input_shape = (28, 28, 1)\n",
    "\n",
    "x_train = x_train.astype('float32')\n",
    "x_test = x_test.astype('float32')\n",
    "\n",
    "x_train /= 255\n",
    "x_test /= 255\n",
    "\n",
    "print('x_train shape:', x_train.shape)\n",
    "print('Number of images in x_train', x_train.shape[0])\n",
    "print('Number of images in x_test', x_test.shape[0])"
   ]
  },
  {
   "cell_type": "code",
   "execution_count": 146,
   "metadata": {},
   "outputs": [],
   "source": [
    "model = Sequential()\n",
    "\n",
    "model.add(Conv2D(filters=32, kernel_size=(5,5), input_shape=input_shape))\n",
    "model.add(MaxPooling2D(pool_size=(2, 2)))\n",
    "model.add(Flatten()) \n",
    "\n",
    "model.add(Dense(128, activation=tf.nn.relu))\n",
    "model.add(Dropout(0.2))\n",
    "\n",
    "model.add(Dense(10,activation=tf.nn.softmax))"
   ]
  },
  {
   "cell_type": "code",
   "execution_count": 147,
   "metadata": {},
   "outputs": [],
   "source": [
    "model.compile(optimizer='adam', \n",
    "              loss='sparse_categorical_crossentropy', \n",
    "              metrics=['accuracy'])\n",
    "model.fit(x=x_train, y=y_train, epochs=10)"
   ]
  },
  {
   "cell_type": "code",
   "execution_count": 143,
   "metadata": {},
   "outputs": [
    {
     "name": "stdout",
     "output_type": "stream",
     "text": [
      "438/438 [==============================] - 1s 2ms/step - loss: 0.0566 - accuracy: 0.9830\n"
     ]
    },
    {
     "data": {
      "text/plain": [
       "[0.05662969499826431, 0.9829999804496765]"
      ]
     },
     "execution_count": 143,
     "metadata": {},
     "output_type": "execute_result"
    }
   ],
   "source": [
    "model.evaluate(x_test, y_test)"
   ]
  },
  {
   "cell_type": "code",
   "execution_count": 150,
   "metadata": {},
   "outputs": [],
   "source": [
    "def model_acc(model, x_train, x_test, y_train, y_test):\n",
    "    \n",
    "    pred_train = model.predict(x_train)\n",
    "    pred_test = model.predict(x_test)\n",
    "    \n",
    "    acc_train = round(100*(1 - np.mean(np.argmax(pred_train, axis=1) != y_train)), 2)\n",
    "    acc_test = round(100*(1 - np.mean(np.argmax(pred_test, axis=1) != y_test)), 2)\n",
    "    \n",
    "    print('Train accuracy: ', acc_train)\n",
    "    print('Test accuracy:  ', acc_test)\n",
    "    return acc_train, acc_test"
   ]
  },
  {
   "cell_type": "markdown",
   "metadata": {},
   "source": [
    "- Neurons = 128\n",
    "- Dropout = 0.2\n",
    "- Epochs = 10"
   ]
  },
  {
   "cell_type": "code",
   "execution_count": 135,
   "metadata": {},
   "outputs": [
    {
     "name": "stdout",
     "output_type": "stream",
     "text": [
      "Train accuracy:  99.45\n",
      "Test accuracy:   98.45\n"
     ]
    }
   ],
   "source": [
    "model_acc(model, x_train, x_test, y_train, y_test)"
   ]
  },
  {
   "cell_type": "markdown",
   "metadata": {},
   "source": [
    "### Iterating over the number of epochs"
   ]
  },
  {
   "cell_type": "code",
   "execution_count": 151,
   "metadata": {},
   "outputs": [
    {
     "name": "stdout",
     "output_type": "stream",
     "text": [
      "1750/1750 [==============================] - 10s 5ms/step - loss: 0.1328 - accuracy: 0.9595\n",
      "Train accuracy:  97.38\n",
      "Test accuracy:   96.86\n",
      "Epoch 1/2\n",
      "1750/1750 [==============================] - 10s 6ms/step - loss: 0.1049 - accuracy: 0.9680\n",
      "Epoch 2/2\n",
      "1750/1750 [==============================] - 12s 7ms/step - loss: 0.0880 - accuracy: 0.9727\n",
      "Train accuracy:  98.25\n",
      "Test accuracy:   97.48\n",
      "Epoch 1/3\n",
      "1750/1750 [==============================] - 12s 7ms/step - loss: 0.0773 - accuracy: 0.9761\n",
      "Epoch 2/3\n",
      "1750/1750 [==============================] - 12s 7ms/step - loss: 0.0697 - accuracy: 0.9787\n",
      "Epoch 3/3\n",
      "1750/1750 [==============================] - 12s 7ms/step - loss: 0.0610 - accuracy: 0.9811\n",
      "Train accuracy:  98.91\n",
      "Test accuracy:   98.09\n",
      "Epoch 1/4\n",
      "1750/1750 [==============================] - 12s 7ms/step - loss: 0.0557 - accuracy: 0.9824\n",
      "Epoch 2/4\n",
      "1750/1750 [==============================] - 12s 7ms/step - loss: 0.0506 - accuracy: 0.9842\n",
      "Epoch 3/4\n",
      "1750/1750 [==============================] - 12s 7ms/step - loss: 0.0462 - accuracy: 0.9849\n",
      "Epoch 4/4\n",
      "1750/1750 [==============================] - 12s 7ms/step - loss: 0.0415 - accuracy: 0.9864\n",
      "Train accuracy:  99.39\n",
      "Test accuracy:   98.38\n",
      "Epoch 1/5\n",
      "1750/1750 [==============================] - 12s 7ms/step - loss: 0.0390 - accuracy: 0.9879\n",
      "Epoch 2/5\n",
      "1750/1750 [==============================] - 12s 7ms/step - loss: 0.0355 - accuracy: 0.9881\n",
      "Epoch 3/5\n",
      "1750/1750 [==============================] - 12s 7ms/step - loss: 0.0340 - accuracy: 0.9886\n",
      "Epoch 4/5\n",
      "1750/1750 [==============================] - 12s 7ms/step - loss: 0.0304 - accuracy: 0.9902\n",
      "Epoch 5/5\n",
      "1750/1750 [==============================] - 12s 7ms/step - loss: 0.0300 - accuracy: 0.9901\n",
      "Train accuracy:  99.64\n",
      "Test accuracy:   98.5\n",
      "Epoch 1/6\n",
      "1750/1750 [==============================] - 12s 7ms/step - loss: 0.0285 - accuracy: 0.9906\n",
      "Epoch 2/6\n",
      "1750/1750 [==============================] - 12s 7ms/step - loss: 0.0257 - accuracy: 0.9912\n",
      "Epoch 3/6\n",
      "1750/1750 [==============================] - 12s 7ms/step - loss: 0.0244 - accuracy: 0.9924\n",
      "Epoch 4/6\n",
      "1750/1750 [==============================] - 12s 7ms/step - loss: 0.0231 - accuracy: 0.9928\n",
      "Epoch 5/6\n",
      "1750/1750 [==============================] - 12s 7ms/step - loss: 0.0222 - accuracy: 0.9924\n",
      "Epoch 6/6\n",
      "1750/1750 [==============================] - 12s 7ms/step - loss: 0.0190 - accuracy: 0.9940\n",
      "Train accuracy:  99.88\n",
      "Test accuracy:   98.59\n",
      "Epoch 1/7\n",
      "1750/1750 [==============================] - 12s 7ms/step - loss: 0.0203 - accuracy: 0.9928\n",
      "Epoch 2/7\n",
      "1750/1750 [==============================] - 12s 7ms/step - loss: 0.0184 - accuracy: 0.9938\n",
      "Epoch 3/7\n",
      "1750/1750 [==============================] - 12s 7ms/step - loss: 0.0181 - accuracy: 0.9938\n",
      "Epoch 4/7\n",
      "1750/1750 [==============================] - 12s 7ms/step - loss: 0.0165 - accuracy: 0.9945\n",
      "Epoch 5/7\n",
      "1750/1750 [==============================] - 12s 7ms/step - loss: 0.0153 - accuracy: 0.9949\n",
      "Epoch 6/7\n",
      "1750/1750 [==============================] - 12s 7ms/step - loss: 0.0156 - accuracy: 0.9946\n",
      "Epoch 7/7\n",
      "1750/1750 [==============================] - 12s 7ms/step - loss: 0.0151 - accuracy: 0.9945\n",
      "Train accuracy:  99.9\n",
      "Test accuracy:   98.63\n",
      "Epoch 1/8\n",
      "1750/1750 [==============================] - 12s 7ms/step - loss: 0.0139 - accuracy: 0.9952\n",
      "Epoch 2/8\n",
      "1750/1750 [==============================] - 12s 7ms/step - loss: 0.0143 - accuracy: 0.9950\n",
      "Epoch 3/8\n",
      "1750/1750 [==============================] - 12s 7ms/step - loss: 0.0129 - accuracy: 0.9956\n",
      "Epoch 4/8\n",
      "1750/1750 [==============================] - 12s 7ms/step - loss: 0.0132 - accuracy: 0.9956\n",
      "Epoch 5/8\n",
      "1750/1750 [==============================] - 12s 7ms/step - loss: 0.0119 - accuracy: 0.9956\n",
      "Epoch 6/8\n",
      "1750/1750 [==============================] - 12s 7ms/step - loss: 0.0113 - accuracy: 0.9962\n",
      "Epoch 7/8\n",
      "1750/1750 [==============================] - 12s 7ms/step - loss: 0.0114 - accuracy: 0.9960\n",
      "Epoch 8/8\n",
      "1750/1750 [==============================] - 12s 7ms/step - loss: 0.0118 - accuracy: 0.9957\n",
      "Train accuracy:  99.94\n",
      "Test accuracy:   98.64\n",
      "Epoch 1/9\n",
      "1750/1750 [==============================] - 12s 7ms/step - loss: 0.0107 - accuracy: 0.9960\n",
      "Epoch 2/9\n",
      "1750/1750 [==============================] - 12s 7ms/step - loss: 0.0108 - accuracy: 0.9963\n",
      "Epoch 3/9\n",
      "1750/1750 [==============================] - 12s 7ms/step - loss: 0.0107 - accuracy: 0.9961\n",
      "Epoch 4/9\n",
      "1750/1750 [==============================] - 12s 7ms/step - loss: 0.0096 - accuracy: 0.9965\n",
      "Epoch 5/9\n",
      "1750/1750 [==============================] - 12s 7ms/step - loss: 0.0092 - accuracy: 0.9968\n",
      "Epoch 6/9\n",
      "1750/1750 [==============================] - 12s 7ms/step - loss: 0.0082 - accuracy: 0.9975\n",
      "Epoch 7/9\n",
      "1750/1750 [==============================] - 12s 7ms/step - loss: 0.0093 - accuracy: 0.9967\n",
      "Epoch 8/9\n",
      "1750/1750 [==============================] - 12s 7ms/step - loss: 0.0089 - accuracy: 0.9969\n",
      "Epoch 9/9\n",
      "1750/1750 [==============================] - 12s 7ms/step - loss: 0.0086 - accuracy: 0.9968\n",
      "Train accuracy:  99.92\n",
      "Test accuracy:   98.62\n",
      "Epoch 1/10\n",
      "1750/1750 [==============================] - 12s 7ms/step - loss: 0.0086 - accuracy: 0.9971\n",
      "Epoch 2/10\n",
      "1750/1750 [==============================] - 12s 7ms/step - loss: 0.0076 - accuracy: 0.9975\n",
      "Epoch 3/10\n",
      "1750/1750 [==============================] - 13s 7ms/step - loss: 0.0074 - accuracy: 0.9974\n",
      "Epoch 4/10\n",
      "1750/1750 [==============================] - 12s 7ms/step - loss: 0.0078 - accuracy: 0.9972\n",
      "Epoch 5/10\n",
      "1750/1750 [==============================] - 12s 7ms/step - loss: 0.0081 - accuracy: 0.9972\n",
      "Epoch 6/10\n",
      "1750/1750 [==============================] - 12s 7ms/step - loss: 0.0082 - accuracy: 0.9971\n",
      "Epoch 7/10\n",
      "1750/1750 [==============================] - 12s 7ms/step - loss: 0.0081 - accuracy: 0.9970\n",
      "Epoch 8/10\n",
      "1750/1750 [==============================] - 12s 7ms/step - loss: 0.0062 - accuracy: 0.9977\n",
      "Epoch 9/10\n",
      "1750/1750 [==============================] - 12s 7ms/step - loss: 0.0071 - accuracy: 0.9975\n",
      "Epoch 10/10\n",
      "1750/1750 [==============================] - 12s 7ms/step - loss: 0.0081 - accuracy: 0.9971\n",
      "Train accuracy:  99.96\n",
      "Test accuracy:   98.66\n",
      "Epoch 1/11\n",
      "1750/1750 [==============================] - 12s 7ms/step - loss: 0.0073 - accuracy: 0.9974\n",
      "Epoch 2/11\n",
      "1750/1750 [==============================] - 12s 7ms/step - loss: 0.0067 - accuracy: 0.9976\n",
      "Epoch 3/11\n",
      "1750/1750 [==============================] - 12s 7ms/step - loss: 0.0068 - accuracy: 0.9977\n",
      "Epoch 4/11\n",
      "1750/1750 [==============================] - 12s 7ms/step - loss: 0.0069 - accuracy: 0.9973\n",
      "Epoch 5/11\n",
      "1750/1750 [==============================] - 12s 7ms/step - loss: 0.0063 - accuracy: 0.9976\n",
      "Epoch 6/11\n",
      "1750/1750 [==============================] - 12s 7ms/step - loss: 0.0057 - accuracy: 0.9977\n",
      "Epoch 7/11\n",
      "1750/1750 [==============================] - 12s 7ms/step - loss: 0.0066 - accuracy: 0.9980\n",
      "Epoch 8/11\n",
      "1750/1750 [==============================] - 12s 7ms/step - loss: 0.0061 - accuracy: 0.9977\n",
      "Epoch 9/11\n",
      "1750/1750 [==============================] - 12s 7ms/step - loss: 0.0070 - accuracy: 0.9976\n",
      "Epoch 10/11\n",
      "1750/1750 [==============================] - 12s 7ms/step - loss: 0.0069 - accuracy: 0.9973\n",
      "Epoch 11/11\n",
      "1750/1750 [==============================] - 12s 7ms/step - loss: 0.0063 - accuracy: 0.9981\n",
      "Train accuracy:  99.97\n",
      "Test accuracy:   98.65\n",
      "Epoch 1/12\n",
      "1750/1750 [==============================] - 12s 7ms/step - loss: 0.0068 - accuracy: 0.9976\n",
      "Epoch 2/12\n",
      "1750/1750 [==============================] - 12s 7ms/step - loss: 0.0062 - accuracy: 0.9980\n",
      "Epoch 3/12\n",
      "1750/1750 [==============================] - 12s 7ms/step - loss: 0.0052 - accuracy: 0.9982\n",
      "Epoch 4/12\n",
      "1750/1750 [==============================] - 12s 7ms/step - loss: 0.0054 - accuracy: 0.9981\n",
      "Epoch 5/12\n",
      "1750/1750 [==============================] - 12s 7ms/step - loss: 0.0063 - accuracy: 0.9978\n",
      "Epoch 6/12\n",
      "1750/1750 [==============================] - 12s 7ms/step - loss: 0.0057 - accuracy: 0.9981\n",
      "Epoch 7/12\n",
      "1750/1750 [==============================] - 12s 7ms/step - loss: 0.0055 - accuracy: 0.9981\n",
      "Epoch 8/12\n",
      "1750/1750 [==============================] - 12s 7ms/step - loss: 0.0063 - accuracy: 0.9979\n",
      "Epoch 9/12\n",
      "1750/1750 [==============================] - 12s 7ms/step - loss: 0.0069 - accuracy: 0.9974\n",
      "Epoch 10/12\n"
     ]
    },
    {
     "name": "stdout",
     "output_type": "stream",
     "text": [
      "1750/1750 [==============================] - 12s 7ms/step - loss: 0.0054 - accuracy: 0.9980\n",
      "Epoch 11/12\n",
      "1750/1750 [==============================] - 12s 7ms/step - loss: 0.0052 - accuracy: 0.9982\n",
      "Epoch 12/12\n",
      "1750/1750 [==============================] - 12s 7ms/step - loss: 0.0056 - accuracy: 0.9980\n",
      "Train accuracy:  99.99\n",
      "Test accuracy:   98.79\n",
      "Epoch 1/13\n",
      "1750/1750 [==============================] - 12s 7ms/step - loss: 0.0054 - accuracy: 0.9981\n",
      "Epoch 2/13\n",
      "1750/1750 [==============================] - 12s 7ms/step - loss: 0.0052 - accuracy: 0.9982\n",
      "Epoch 3/13\n",
      "1750/1750 [==============================] - 12s 7ms/step - loss: 0.0058 - accuracy: 0.9978\n",
      "Epoch 4/13\n",
      "1750/1750 [==============================] - ETA: 0s - loss: 0.0049 - accuracy: 0.99 - 12s 7ms/step - loss: 0.0049 - accuracy: 0.9985\n",
      "Epoch 5/13\n",
      "1750/1750 [==============================] - 12s 7ms/step - loss: 0.0059 - accuracy: 0.9979\n",
      "Epoch 6/13\n",
      "1750/1750 [==============================] - 12s 7ms/step - loss: 0.0049 - accuracy: 0.9984\n",
      "Epoch 7/13\n",
      "1750/1750 [==============================] - 12s 7ms/step - loss: 0.0058 - accuracy: 0.9982\n",
      "Epoch 8/13\n",
      "1750/1750 [==============================] - 12s 7ms/step - loss: 0.0057 - accuracy: 0.9981\n",
      "Epoch 9/13\n",
      "1750/1750 [==============================] - 12s 7ms/step - loss: 0.0064 - accuracy: 0.9979\n",
      "Epoch 10/13\n",
      "1750/1750 [==============================] - 12s 7ms/step - loss: 0.0049 - accuracy: 0.9981\n",
      "Epoch 11/13\n",
      "1750/1750 [==============================] - 12s 7ms/step - loss: 0.0045 - accuracy: 0.9984\n",
      "Epoch 12/13\n",
      "1750/1750 [==============================] - 12s 7ms/step - loss: 0.0052 - accuracy: 0.9980\n",
      "Epoch 13/13\n",
      "1750/1750 [==============================] - 12s 7ms/step - loss: 0.0064 - accuracy: 0.9979\n",
      "Train accuracy:  100.0\n",
      "Test accuracy:   98.75\n",
      "Epoch 1/14\n",
      "1750/1750 [==============================] - 12s 7ms/step - loss: 0.0047 - accuracy: 0.9985\n",
      "Epoch 2/14\n",
      "1750/1750 [==============================] - 12s 7ms/step - loss: 0.0046 - accuracy: 0.9984\n",
      "Epoch 3/14\n",
      "1750/1750 [==============================] - 12s 7ms/step - loss: 0.0059 - accuracy: 0.9982\n",
      "Epoch 4/14\n",
      "1750/1750 [==============================] - 12s 7ms/step - loss: 0.0041 - accuracy: 0.9987\n",
      "Epoch 5/14\n",
      "1750/1750 [==============================] - 12s 7ms/step - loss: 0.0058 - accuracy: 0.9981\n",
      "Epoch 6/14\n",
      "1750/1750 [==============================] - 12s 7ms/step - loss: 0.0047 - accuracy: 0.9984\n",
      "Epoch 7/14\n",
      "1750/1750 [==============================] - 12s 7ms/step - loss: 0.0046 - accuracy: 0.9983\n",
      "Epoch 8/14\n",
      "1750/1750 [==============================] - 12s 7ms/step - loss: 0.0052 - accuracy: 0.9981\n",
      "Epoch 9/14\n",
      "1750/1750 [==============================] - 12s 7ms/step - loss: 0.0048 - accuracy: 0.9983\n",
      "Epoch 10/14\n",
      "1750/1750 [==============================] - 12s 7ms/step - loss: 0.0042 - accuracy: 0.9986\n",
      "Epoch 11/14\n",
      "1750/1750 [==============================] - 12s 7ms/step - loss: 0.0048 - accuracy: 0.9983\n",
      "Epoch 12/14\n",
      "1750/1750 [==============================] - 12s 7ms/step - loss: 0.0044 - accuracy: 0.9985\n",
      "Epoch 13/14\n",
      "1750/1750 [==============================] - 12s 7ms/step - loss: 0.0035 - accuracy: 0.9987\n",
      "Epoch 14/14\n",
      "1750/1750 [==============================] - 12s 7ms/step - loss: 0.0054 - accuracy: 0.9981\n",
      "Train accuracy:  99.99\n",
      "Test accuracy:   98.79\n",
      "Epoch 1/15\n",
      "1750/1750 [==============================] - 12s 7ms/step - loss: 0.0054 - accuracy: 0.9984\n",
      "Epoch 2/15\n",
      "1750/1750 [==============================] - 12s 7ms/step - loss: 0.0043 - accuracy: 0.9985\n",
      "Epoch 3/15\n",
      "1750/1750 [==============================] - 12s 7ms/step - loss: 0.0052 - accuracy: 0.9982\n",
      "Epoch 4/15\n",
      "1750/1750 [==============================] - 12s 7ms/step - loss: 0.0031 - accuracy: 0.9989\n",
      "Epoch 5/15\n",
      "1750/1750 [==============================] - 12s 7ms/step - loss: 0.0042 - accuracy: 0.9986\n",
      "Epoch 6/15\n",
      "1750/1750 [==============================] - 12s 7ms/step - loss: 0.0041 - accuracy: 0.9987\n",
      "Epoch 7/15\n",
      "1750/1750 [==============================] - 12s 7ms/step - loss: 0.0046 - accuracy: 0.9985\n",
      "Epoch 8/15\n",
      "1750/1750 [==============================] - 12s 7ms/step - loss: 0.0059 - accuracy: 0.9982\n",
      "Epoch 9/15\n",
      "1750/1750 [==============================] - 12s 7ms/step - loss: 0.0041 - accuracy: 0.9986\n",
      "Epoch 10/15\n",
      "1750/1750 [==============================] - 12s 7ms/step - loss: 0.0039 - accuracy: 0.9988\n",
      "Epoch 11/15\n",
      "1750/1750 [==============================] - 12s 7ms/step - loss: 0.0044 - accuracy: 0.9983\n",
      "Epoch 12/15\n",
      "1750/1750 [==============================] - 12s 7ms/step - loss: 0.0043 - accuracy: 0.9985\n",
      "Epoch 13/15\n",
      "1750/1750 [==============================] - 12s 7ms/step - loss: 0.0047 - accuracy: 0.9983\n",
      "Epoch 14/15\n",
      "1750/1750 [==============================] - 12s 7ms/step - loss: 0.0039 - accuracy: 0.9987\n",
      "Epoch 15/15\n",
      "1750/1750 [==============================] - 12s 7ms/step - loss: 0.0031 - accuracy: 0.9989\n",
      "Train accuracy:  99.97\n",
      "Test accuracy:   98.65\n"
     ]
    }
   ],
   "source": [
    "acc_test_list = []\n",
    "acc_train_list = []\n",
    "for i in range(1,16):\n",
    "    model.compile(optimizer='adam',\n",
    "                  loss='sparse_categorical_crossentropy',\n",
    "                  metrics=['accuracy'])\n",
    "    model.fit(x=x_train,y=y_train, epochs=i)\n",
    "    acc_train, acc_test = model_acc(model, x_train, x_test, y_train, y_test)\n",
    "    acc_test_list.append(acc_test)\n",
    "    acc_train_list.append(acc_train)"
   ]
  },
  {
   "cell_type": "code",
   "execution_count": 169,
   "metadata": {},
   "outputs": [
    {
     "data": {
      "image/png": "[encoded data removed]",
      "text/plain": [
       "<Figure size 432x288 with 1 Axes>"
      ]
     },
     "metadata": {
      "needs_background": "light"
     },
     "output_type": "display_data"
    }
   ],
   "source": [
    "plt.figure()\n",
    "line1 = plt.plot(np.arange(1,16), acc_test_list, color='m' ,marker='o', label='test_accuracy')\n",
    "line2 = plt.plot(np.arange(1,16), acc_train_list, color='b', marker='o', label='train_accuracy')\n",
    "plt.title('Accuracy vs number of epochs')\n",
    "plt.xlabel('Number of epochs')\n",
    "plt.ylabel('Accuracy')\n",
    "plt.xlim([0.8,15.2])\n",
    "plt.ylim([96,100.1])\n",
    "plt.legend()\n",
    "plt.show()"
   ]
  },
  {
   "cell_type": "code",
   "execution_count": 157,
   "metadata": {},
   "outputs": [],
   "source": [
    "pred_test = model.predict(x_test)"
   ]
  },
  {
   "cell_type": "code",
   "execution_count": 159,
   "metadata": {},
   "outputs": [
    {
     "data": {
      "text/plain": [
       "array([[1367,    0,    4,    0,    0,    1,    8,    0,    6,    2],\n",
       "       [   0, 1529,    4,    2,    2,    1,    2,    2,    3,    1],\n",
       "       [   2,    2, 1382,    3,    7,    0,    0,    2,    2,    2],\n",
       "       [   0,    0,    3, 1363,    0,    2,    0,    2,    4,    1],\n",
       "       [   1,    1,    1,    0, 1389,    0,    5,    0,    3,    6],\n",
       "       [   4,    1,    0,    3,    1, 1302,    4,    0,    4,    1],\n",
       "       [   3,    0,    0,    0,    3,    3, 1382,    0,    3,    0],\n",
       "       [   0,    0,   12,    3,    4,    3,    1, 1392,    4,    8],\n",
       "       [   1,    1,    0,    0,    3,    3,    2,    0, 1301,    4],\n",
       "       [   2,    0,    0,    4,    8,    4,    0,    1,    4, 1404]],\n",
       "      dtype=int64)"
      ]
     },
     "execution_count": 159,
     "metadata": {},
     "output_type": "execute_result"
    }
   ],
   "source": [
    "skmet.confusion_matrix(y_test, np.argmax(pred_test, axis=1))"
   ]
  },
  {
   "cell_type": "code",
   "execution_count": 161,
   "metadata": {},
   "outputs": [
    {
     "name": "stdout",
     "output_type": "stream",
     "text": [
      "              precision    recall  f1-score   support\n",
      "\n",
      "           0       0.99      0.98      0.99      1388\n",
      "           1       1.00      0.99      0.99      1546\n",
      "           2       0.98      0.99      0.98      1402\n",
      "           3       0.99      0.99      0.99      1375\n",
      "           4       0.98      0.99      0.98      1406\n",
      "           5       0.99      0.99      0.99      1320\n",
      "           6       0.98      0.99      0.99      1394\n",
      "           7       0.99      0.98      0.99      1427\n",
      "           8       0.98      0.99      0.98      1315\n",
      "           9       0.98      0.98      0.98      1427\n",
      "\n",
      "    accuracy                           0.99     14000\n",
      "   macro avg       0.99      0.99      0.99     14000\n",
      "weighted avg       0.99      0.99      0.99     14000\n",
      "\n"
     ]
    }
   ],
   "source": [
    "print(skmet.classification_report(y_test, np.argmax(pred_test,axis=1)))"
   ]
  },
  {
   "cell_type": "markdown",
   "metadata": {},
   "source": [
    "## <font color='blue'>Summary</font>  \n",
    "- Digits can be recognized from images with high accuracies.\n",
    "- Using the MLP classifier with one hidden-layer and 32 neurons the results were 97.4% and 94.1% for train and test respectively.\n",
    "- Using PCA method only 43 features were used to obtain 96.7% and 96.0% for train and test respectively. \n",
    "- The probability of mispredict specific numbers was investigated. The worst predicted number is 9, and the best is 1.\n",
    "- CNN was used with 32 filters, kernel_size of 5x5, and max_pooling layer of 2x2.\n",
    "- One layer of 128 neurons, relu function, and dropuot layer of 0.2 were used.\n",
    "- The accuracy of test and train sets were tested versos the number of epochs.\n",
    "- The \"knee point\" was observed after ~4 epochs with accuracy of 99.4% and 98.4% for train and test respectively.\n",
    "- After 6 epochs the plots were flattened. Accuracy of 99.9% and 98.6% for train and test respectively were calculated."
   ]
  },
  {
   "cell_type": "markdown",
   "metadata": {},
   "source": [
    "## Conclusions\n",
    "- PCA method improved the test accuracy and reduced the overfitting problem.\n",
    "- CNN model performed better than MLP even after one epoch.\n",
    "- The accuracy for train and test were improved by ~3% and ~2% respectively.\n",
    "- Fine tuning of different hyper-parameters can further improve the results. "
   ]
  }
 ],
 "metadata": {
  "kernelspec": {
   "display_name": "Python 3",
   "language": "python",
   "name": "python3"
  },
  "language_info": {
   "codemirror_mode": {
    "name": "ipython",
    "version": 3
   },
   "file_extension": ".py",
   "mimetype": "text/x-python",
   "name": "python",
   "nbconvert_exporter": "python",
   "pygments_lexer": "ipython3",
   "version": "3.8.5"
  }
 },
 "nbformat": 4,
 "nbformat_minor": 4
}
